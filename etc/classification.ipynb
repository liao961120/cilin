{
 "cells": [
  {
   "cell_type": "code",
   "execution_count": 1,
   "id": "463afc02-1217-4021-8080-aed46937bf76",
   "metadata": {},
   "outputs": [],
   "source": [
    "%load_ext autoreload\n",
    "%autoreload 2"
   ]
  },
  {
   "cell_type": "code",
   "execution_count": 9,
   "id": "4cc68629-0848-4bdd-9de9-8110ca806934",
   "metadata": {},
   "outputs": [],
   "source": [
    "import json\n",
    "from cilin import Cilin\n",
    "from CompoTree import Radicals\n",
    "from collections import Counter\n",
    "from itertools import product, chain\n",
    "from utils import *"
   ]
  },
  {
   "cell_type": "code",
   "execution_count": 10,
   "id": "6c5291b3-bac1-47be-ae91-ad655b608a40",
   "metadata": {},
   "outputs": [],
   "source": [
    "C = Cilin(trad=True)\n",
    "documents = { k:list(v) for k, v in C.category_split(level=3).items() }"
   ]
  },
  {
   "cell_type": "code",
   "execution_count": 11,
   "id": "c4cd1835-b53b-4ec6-8d09-0071624f1356",
   "metadata": {},
   "outputs": [],
   "source": [
    "all_words = chain.from_iterable(documents.values())\n",
    "Tagger = RadicalSemanticTagger(all_words=all_words)"
   ]
  },
  {
   "cell_type": "code",
   "execution_count": 15,
   "id": "fbb0cc2b-c4cb-4f13-b8fb-5c168029f434",
   "metadata": {},
   "outputs": [
    {
     "data": {
      "text/plain": [
       "(546,)"
      ]
     },
     "execution_count": 15,
     "metadata": {},
     "output_type": "execute_result"
    }
   ],
   "source": [
    "Tagger.encode_doc(documents['Aa01'])"
   ]
  },
  {
   "cell_type": "code",
   "execution_count": 28,
   "id": "d32f4a5b-8056-4eef-976f-dfa2c6d7ad99",
   "metadata": {},
   "outputs": [
    {
     "data": {
      "text/plain": [
       "(1428, 546)"
      ]
     },
     "execution_count": 28,
     "metadata": {},
     "output_type": "execute_result"
    }
   ],
   "source": [
    "import numpy as np\n",
    "from sklearn.feature_extraction.text import TfidfTransformer\n",
    "\n",
    "\n",
    "doc2id = { doc:i for i, doc in enumerate(documents.keys()) }\n",
    "id2doc = { v:k for k, v in doc2id.items() }\n",
    "\n",
    "count_mat = []\n",
    "for doc in doc2id:\n",
    "    doc = Tagger.encode_doc(documents[doc])\n",
    "    count_mat.append(doc)\n",
    "count_mat = np.array(count_mat)\n",
    "count_mat.shape"
   ]
  },
  {
   "cell_type": "code",
   "execution_count": 60,
   "id": "e601a57e-fc73-4a83-9ed1-aa243d2a98ec",
   "metadata": {},
   "outputs": [
    {
     "name": "stdout",
     "output_type": "stream",
     "text": [
      "(546,)\n"
     ]
    }
   ],
   "source": [
    "idf = TfidfTransformer().fit(count_mat)\n",
    "print(idf.idf_.shape)"
   ]
  },
  {
   "cell_type": "code",
   "execution_count": 61,
   "id": "aed0d761-e30d-4bc1-b31e-cc3c5de2dd64",
   "metadata": {},
   "outputs": [
    {
     "data": {
      "text/plain": [
       "array([[0.        , 0.        , 0.        , ..., 0.04479433, 0.        ,\n",
       "        0.        ],\n",
       "       [0.        , 0.        , 0.        , ..., 0.11450482, 0.        ,\n",
       "        0.        ],\n",
       "       [0.        , 0.        , 0.        , ..., 0.        , 0.        ,\n",
       "        0.15314722],\n",
       "       ...,\n",
       "       [0.        , 0.        , 0.        , ..., 0.        , 0.        ,\n",
       "        0.        ],\n",
       "       [0.        , 0.        , 0.        , ..., 0.        , 0.1710718 ,\n",
       "        0.        ],\n",
       "       [0.        , 0.        , 0.        , ..., 0.        , 0.        ,\n",
       "        0.        ]])"
      ]
     },
     "execution_count": 61,
     "metadata": {},
     "output_type": "execute_result"
    }
   ],
   "source": [
    "tf_idf_mat = idf.transform(count_mat) #.toarray()\n",
    "tf_idf_mat.toarray()"
   ]
  },
  {
   "cell_type": "code",
   "execution_count": null,
   "id": "f6f287f6-ebfe-4a60-8733-21e930bc8daa",
   "metadata": {},
   "outputs": [],
   "source": []
  }
 ],
 "metadata": {
  "kernelspec": {
   "display_name": "py3.8",
   "language": "python",
   "name": "py3.8"
  },
  "language_info": {
   "codemirror_mode": {
    "name": "ipython",
    "version": 3
   },
   "file_extension": ".py",
   "mimetype": "text/x-python",
   "name": "python",
   "nbconvert_exporter": "python",
   "pygments_lexer": "ipython3",
   "version": "3.8.0"
  }
 },
 "nbformat": 4,
 "nbformat_minor": 5
}
