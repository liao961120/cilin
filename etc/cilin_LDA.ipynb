{
 "cells": [
  {
   "cell_type": "code",
   "execution_count": 1,
   "id": "90b5dd35-181f-4868-aa16-00cbd8b85a51",
   "metadata": {},
   "outputs": [],
   "source": [
    "%load_ext autoreload\n",
    "%autoreload 2"
   ]
  },
  {
   "cell_type": "code",
   "execution_count": 2,
   "id": "80972206-2bc2-4571-91ad-ec72c7321a3e",
   "metadata": {},
   "outputs": [],
   "source": [
    "import numpy as np\n",
    "from tqdm import tqdm\n",
    "from collections import Counter\n",
    "from itertools import chain\n",
    "from scipy.sparse import csc_matrix\n",
    "from scipy.spatial.distance import pdist, squareform\n",
    "from sklearn.cluster import AgglomerativeClustering\n",
    "from sklearn.metrics.cluster import adjusted_rand_score\n",
    "from gensim.models import LdaModel\n",
    "from gensim.matutils import Sparse2Corpus\n",
    "from utilsLDA import *"
   ]
  },
  {
   "cell_type": "markdown",
   "id": "8524c966-95ed-4895-8af2-044a0e813e54",
   "metadata": {},
   "source": [
    "## Fitting LDA models"
   ]
  },
  {
   "cell_type": "markdown",
   "id": "848e856a-bb36-4cc4-8751-625a3f754c48",
   "metadata": {},
   "source": [
    "### Document-Term Matrices"
   ]
  },
  {
   "cell_type": "code",
   "execution_count": 3,
   "id": "13726cde-7541-4384-b82f-ffb05ee8a531",
   "metadata": {},
   "outputs": [],
   "source": [
    "# Unigram document-term matrix\n",
    "data, row, col = [], [], []\n",
    "for row_idx, doc in enumerate(id2doc):\n",
    "    semTags = [ tag for ch in chain.from_iterable(documents[doc]) for tag in unigram_sem[ch] ]\n",
    "    for tag, fq in Counter(semTags).items():\n",
    "        col_idx = unigramSem2id[tag]\n",
    "        data.append(fq)\n",
    "        row.append(row_idx)\n",
    "        col.append(col_idx)\n",
    "csc_unigram = csc_matrix((data, (row, col)), shape=(len(id2doc), len(id2unigramSem)))\n",
    "\n",
    "# Bigram document-term matrix\n",
    "data, row, col = [], [], []\n",
    "for row_idx, doc in enumerate(id2doc):\n",
    "    semTags = [ tag for word in documents[doc] if len(word) == 2 for tag in bigram_sem[word] ]\n",
    "    for tag, fq in Counter(semTags).items():\n",
    "        col_idx = bigramSem2id[tag]\n",
    "        data.append(fq)\n",
    "        row.append(row_idx)\n",
    "        col.append(col_idx)\n",
    "csc_bigram = csc_matrix((data, (row, col)), shape=(len(id2doc), len(id2bigramSem)))"
   ]
  },
  {
   "cell_type": "code",
   "execution_count": 21,
   "id": "6c697be3-e325-46a1-97cf-2d82d525454c",
   "metadata": {},
   "outputs": [],
   "source": [
    "# n_categories = list(range(3, 22, 2))\n",
    "n_categories = [12, 95, 1000]"
   ]
  },
  {
   "cell_type": "code",
   "execution_count": 22,
   "id": "39c352f1-35c3-48c4-8009-752d144fc4d1",
   "metadata": {},
   "outputs": [
    {
     "name": "stderr",
     "output_type": "stream",
     "text": [
      "100%|█████████████████████████████████████████████| 3/3 [00:46<00:00, 15.66s/it]\n"
     ]
    }
   ],
   "source": [
    "LDA_unigram, LDA_bigram = [], []\n",
    "corp_unigram = Sparse2Corpus(csc_unigram, documents_columns=False)\n",
    "corp_bigram = Sparse2Corpus(csc_bigram, documents_columns=False)\n",
    "\n",
    "for n_topics in tqdm(n_categories):\n",
    "    m1 = LdaModel(corp_unigram, num_topics=n_topics, random_state=100)\n",
    "    m2 = LdaModel(corp_bigram, num_topics=n_topics, random_state=100)\n",
    "    LDA_unigram.append(m1)\n",
    "    LDA_bigram.append(m2)"
   ]
  },
  {
   "cell_type": "code",
   "execution_count": 23,
   "id": "ae886ea9-b1de-43d3-86fe-29de7010e37b",
   "metadata": {},
   "outputs": [
    {
     "name": "stderr",
     "output_type": "stream",
     "text": [
      "100%|█████████████████████████████████████████████| 3/3 [02:38<00:00, 52.97s/it]\n"
     ]
    }
   ],
   "source": [
    "dist_mat_unigram, dist_mat_bigram = [], []\n",
    "\n",
    "for i in tqdm(list(range(len(n_categories)))):\n",
    "    for j in [True, False]:\n",
    "        if j == True:\n",
    "            model = LDA_unigram[i]\n",
    "        else:\n",
    "            model = LDA_bigram[i]\n",
    "        \n",
    "        X = []\n",
    "        for row_idx, doc1_id in enumerate(id2doc):\n",
    "            p = get_document_topic_vec(doc1_id, model, unigram=j)\n",
    "            X.append(p)\n",
    "        X = np.array(X, dtype=float)\n",
    "        dist_mat = pdist(X, \"jensenshannon\")\n",
    "        dist_mat = squareform(dist_mat)\n",
    "        for row_idx, col_idx in np.argwhere(np.isnan(dist_mat)):\n",
    "            dist_mat[row_idx][col_idx] = 0.0\n",
    "        \n",
    "        if j == True:\n",
    "            dist_mat_unigram.append(dist_mat)\n",
    "        else:\n",
    "            dist_mat_bigram.append(dist_mat)"
   ]
  },
  {
   "cell_type": "code",
   "execution_count": 24,
   "id": "c27ef4d3-67bf-4272-a851-67b62c7beb8e",
   "metadata": {},
   "outputs": [
    {
     "data": {
      "text/plain": [
       "3"
      ]
     },
     "execution_count": 24,
     "metadata": {},
     "output_type": "execute_result"
    }
   ],
   "source": [
    "len(dist_mat_bigram)"
   ]
  },
  {
   "cell_type": "code",
   "execution_count": 25,
   "id": "489976a4-9a3d-4414-b427-2d4cedd9ba1d",
   "metadata": {},
   "outputs": [],
   "source": [
    "from random import sample\n",
    "from sklearn.cluster import AgglomerativeClustering\n",
    "from sklearn.metrics.cluster import adjusted_rand_score\n",
    "# https://scikit-learn.org/stable/modules/generated/sklearn.metrics.adjusted_rand_score.html\n",
    "\n",
    "adj_rand_score_unigram, adj_rand_score_bigram  = [], []\n",
    "adj_rand_score_unigram_rnd, adj_rand_score_bigram_rnd  = [], []\n",
    "\n",
    "for i, n_topic in enumerate(n_categories):\n",
    "    true_labs = [ ''.join(C._parse_key(x)[:i+1]) for x in id2doc ]\n",
    "    m1 = AgglomerativeClustering(n_clusters=n_topic, affinity='precomputed', linkage='average').fit(dist_mat_unigram[i])\n",
    "    m2 = AgglomerativeClustering(n_clusters=n_topic, affinity='precomputed', linkage='average').fit(dist_mat_bigram[i])\n",
    "    m1_labs, m2_labs = m1.labels_, m2.labels_\n",
    "    s1, s2 = adjusted_rand_score(true_labs, m1_labs), adjusted_rand_score(true_labs, m2_labs)\n",
    "    adj_rand_score_unigram.append(s1)\n",
    "    adj_rand_score_bigram.append(s2)\n",
    "    \n",
    "    # Random baseline\n",
    "    rnd_uni, rnd_bi = [], []\n",
    "    for i in range(5):\n",
    "        true_labs_rnd = sample(true_labs, len(true_labs))\n",
    "        s1, s2 = adjusted_rand_score(true_labs_rnd, m1_labs), adjusted_rand_score(true_labs_rnd, m2_labs)\n",
    "        rnd_uni.append(s1)\n",
    "        rnd_bi.append(s2)\n",
    "    adj_rand_score_unigram_rnd.append(rnd_uni)\n",
    "    adj_rand_score_bigram_rnd.append(rnd_bi)"
   ]
  },
  {
   "cell_type": "code",
   "execution_count": 26,
   "id": "cec0ce32-23db-45e0-8ba5-a832b797dd5e",
   "metadata": {},
   "outputs": [
    {
     "data": {
      "text/plain": [
       "[0.05169581096417255, 0.037670617780384004, 0.0]"
      ]
     },
     "execution_count": 26,
     "metadata": {},
     "output_type": "execute_result"
    }
   ],
   "source": [
    "adj_rand_score_unigram"
   ]
  },
  {
   "cell_type": "code",
   "execution_count": 27,
   "id": "bb9a2e3d-6796-4870-a397-fc67bed8cc67",
   "metadata": {},
   "outputs": [
    {
     "data": {
      "text/plain": [
       "[[0.002545966852257537,\n",
       "  0.00040085636183025835,\n",
       "  -0.0013688597927722463,\n",
       "  0.0016968606164634056,\n",
       "  0.0001059036693965076],\n",
       " [-0.0008876982632501795,\n",
       "  0.0006406040620660552,\n",
       "  0.00266998911699417,\n",
       "  -1.080348642938905e-05,\n",
       "  -0.0015140516752650299],\n",
       " [0.0, 0.0, 0.0, 0.0, 0.0]]"
      ]
     },
     "execution_count": 27,
     "metadata": {},
     "output_type": "execute_result"
    }
   ],
   "source": [
    "adj_rand_score_unigram_rnd"
   ]
  },
  {
   "cell_type": "code",
   "execution_count": 28,
   "id": "ec910563-6027-4810-bc8e-6907f00ec157",
   "metadata": {},
   "outputs": [
    {
     "data": {
      "text/plain": [
       "[0.0365168999627871, 0.03521974032259324, 0.0]"
      ]
     },
     "execution_count": 28,
     "metadata": {},
     "output_type": "execute_result"
    }
   ],
   "source": [
    "adj_rand_score_bigram"
   ]
  },
  {
   "cell_type": "code",
   "execution_count": 29,
   "id": "d3146dd2-2600-4b17-b19d-7bc24310fe1e",
   "metadata": {},
   "outputs": [
    {
     "data": {
      "text/plain": [
       "[[0.0022006415201360407,\n",
       "  -0.0007306166819837722,\n",
       "  -0.00044122494865347217,\n",
       "  0.0009777280663854182,\n",
       "  -0.0003665432110198464],\n",
       " [0.00037895522743597266,\n",
       "  0.0013636880497755455,\n",
       "  0.0010354437756623545,\n",
       "  0.0021608527154790094,\n",
       "  0.00037895522743597266],\n",
       " [0.0, 0.0, 0.0, 0.0, 0.0]]"
      ]
     },
     "execution_count": 29,
     "metadata": {},
     "output_type": "execute_result"
    }
   ],
   "source": [
    "adj_rand_score_bigram_rnd"
   ]
  },
  {
   "cell_type": "code",
   "execution_count": 20,
   "id": "24aa1956-b62e-4713-9779-8e14012c9d36",
   "metadata": {},
   "outputs": [
    {
     "data": {
      "text/plain": [
       "-0.2857142857142857"
      ]
     },
     "execution_count": 20,
     "metadata": {},
     "output_type": "execute_result"
    }
   ],
   "source": [
    "adjusted_rand_score([2, 1, 1, 3], ['b', 'b', 'a', 'a'])"
   ]
  },
  {
   "cell_type": "markdown",
   "id": "0dcb0ee3-9e78-491b-80d2-15182ed05309",
   "metadata": {},
   "source": [
    "## Clustering Hyperparameter exploration"
   ]
  },
  {
   "cell_type": "code",
   "execution_count": 13,
   "id": "5bb6201f-40ce-4dd4-b3e4-10d09e0d53a5",
   "metadata": {},
   "outputs": [
    {
     "data": {
      "image/png": "[encoded data removed]",
      "text/plain": [
       "<Figure size 432x288 with 1 Axes>"
      ]
     },
     "metadata": {
      "needs_background": "light"
     },
     "output_type": "display_data"
    }
   ],
   "source": [
    "import numpy as np\n",
    "\n",
    "from matplotlib import pyplot as plt\n",
    "from scipy.cluster.hierarchy import dendrogram\n",
    "from sklearn.datasets import load_iris\n",
    "from sklearn.cluster import AgglomerativeClustering\n",
    "\n",
    "\n",
    "def plot_dendrogram(model, **kwargs):\n",
    "    # Create linkage matrix and then plot the dendrogram\n",
    "\n",
    "    # create the counts of samples under each node\n",
    "    counts = np.zeros(model.children_.shape[0])\n",
    "    n_samples = len(model.labels_)\n",
    "    for i, merge in enumerate(model.children_):\n",
    "        current_count = 0\n",
    "        for child_idx in merge:\n",
    "            if child_idx < n_samples:\n",
    "                current_count += 1  # leaf node\n",
    "            else:\n",
    "                current_count += counts[child_idx - n_samples]\n",
    "        counts[i] = current_count\n",
    "\n",
    "    linkage_matrix = np.column_stack(\n",
    "        [model.children_, model.distances_, counts]\n",
    "    ).astype(float)\n",
    "\n",
    "    # Plot the corresponding dendrogram\n",
    "    dendrogram(linkage_matrix, **kwargs)\n",
    "\n",
    "\n",
    "iris = load_iris()\n",
    "X = iris.data\n",
    "\n",
    "# setting distance_threshold=0 ensures we compute the full tree.\n",
    "model = AgglomerativeClustering(distance_threshold=0, n_clusters=None, affinity='precomputed', linkage='average')\n",
    "# model = AgglomerativeClustering(distance_threshold=0, n_clusters=None)\n",
    "model = model.fit(dist_mat)\n",
    "\n",
    "plt.title(\"Hierarchical Clustering Dendrogram\")\n",
    "# plot the top three levels of the dendrogram\n",
    "plot_dendrogram(model) #, truncate_mode=\"level\", p=3)\n",
    "plt.xlabel(\"Number of points in node (or index of point if no parenthesis).\")\n",
    "plt.show()"
   ]
  }
 ],
 "metadata": {
  "kernelspec": {
   "display_name": "py3.8",
   "language": "python",
   "name": "py3.8"
  },
  "language_info": {
   "codemirror_mode": {
    "name": "ipython",
    "version": 3
   },
   "file_extension": ".py",
   "mimetype": "text/x-python",
   "name": "python",
   "nbconvert_exporter": "python",
   "pygments_lexer": "ipython3",
   "version": "3.8.0"
  }
 },
 "nbformat": 4,
 "nbformat_minor": 5
}
