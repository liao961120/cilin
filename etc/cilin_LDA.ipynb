{
 "cells": [
  {
   "cell_type": "code",
   "execution_count": 1,
   "id": "90b5dd35-181f-4868-aa16-00cbd8b85a51",
   "metadata": {},
   "outputs": [],
   "source": [
    "import json\n",
    "from cilin import Cilin\n",
    "from CompoTree import Radicals\n",
    "\n",
    "C = Cilin(trad=True)\n",
    "radicals = Radicals.load()\n",
    "\n",
    "with open('radical_semantic_tag.json', encoding='utf-8') as f:\n",
    "    rad_sem = json.load(f)"
   ]
  },
  {
   "cell_type": "code",
   "execution_count": 62,
   "id": "8efea8ef-7f0a-4129-bc73-062d0afc527a",
   "metadata": {},
   "outputs": [
    {
     "data": {
      "text/plain": [
       "[['住宿', '性質']]"
      ]
     },
     "execution_count": 62,
     "metadata": {},
     "output_type": "execute_result"
    }
   ],
   "source": [
    "from itertools import product\n",
    "\n",
    "def sem_feats(word):\n",
    "    rads = [ radicals.query(c)[0] for c in word ]\n",
    "    return [ rad_sem.get(r, [\"NULL\"]) for r in rads ]\n",
    "\n",
    "def feat_comb(feats):\n",
    "    if len(feats) > 2: \n",
    "        raise Exception('Accepts 2 features only')\n",
    "    if len(feats) == 1: return feats[0]\n",
    "    f1, f2 = feats\n",
    "    return [f\"{x}_{y}\" for x, y in product(f1, f2)]\n",
    "\n",
    "feat_comb(sem_feats('屍體'))\n",
    "sem_feats(\"屍\")"
   ]
  },
  {
   "cell_type": "code",
   "execution_count": 27,
   "id": "da466490-d704-4985-b9fb-d2ee9c73c058",
   "metadata": {},
   "outputs": [],
   "source": [
    "documents = { k:list(v) for k, v in C.category_split(level=5).items() }\n",
    "# documents"
   ]
  },
  {
   "cell_type": "code",
   "execution_count": 68,
   "id": "33836bbe-9164-467e-bd35-60e24f9c254d",
   "metadata": {},
   "outputs": [],
   "source": [
    "from itertools import chain\n",
    "\n",
    "sem_unigrams = set()\n",
    "sem_bigrams = set()\n",
    "unigram_sem = dict()\n",
    "bigram_sem = dict()\n",
    "for word in chain.from_iterable(documents.values()):\n",
    "    if len(word) == 2:\n",
    "        sem = feat_comb(sem_feats(word))\n",
    "        for fc in sem:\n",
    "            sem_bigrams.add(fc)\n",
    "            bigram_sem.setdefault(word, set()).add(fc)\n",
    "    for ch in word:\n",
    "        sem = sem_feats(ch)[0]\n",
    "        for fc in sem:\n",
    "            sem_unigrams.add(fc)\n",
    "            unigram_sem.setdefault(ch, set()).add(fc)"
   ]
  },
  {
   "cell_type": "code",
   "execution_count": 86,
   "id": "13726cde-7541-4384-b82f-ffb05ee8a531",
   "metadata": {},
   "outputs": [],
   "source": [
    "import numpy as np\n",
    "from collections import Counter\n",
    "from scipy.sparse import csc_matrix\n",
    "\n",
    "id2doc = list(documents.keys())\n",
    "doc2id = {doc:i for i, doc in enumerate(id2doc)}\n",
    "\n",
    "id2unigramSem = list(sem_unigrams)\n",
    "unigramSem2id = {v:i for i, v in enumerate(id2unigramSem)}\n",
    "\n",
    "id2bigramSem = list(sem_bigrams)\n",
    "bigramSem2id = {v:i for i, v in enumerate(id2bigramSem)}\n",
    "\n",
    "# csr_bigram\n",
    "\n",
    "# Unigram document-term matrix\n",
    "data, row, col = [], [], []\n",
    "for row_idx, doc in enumerate(id2doc):\n",
    "    semTags = [ tag for ch in chain.from_iterable(documents[doc]) for tag in unigram_sem[ch] ]\n",
    "    for tag, fq in Counter(semTags).items():\n",
    "        col_idx = unigramSem2id[tag]\n",
    "        data.append(fq)\n",
    "        row.append(row_idx)\n",
    "        col.append(col_idx)\n",
    "csc_unigram = csc_matrix((data, (row, col)), shape=(len(id2doc), len(id2unigramSem)))"
   ]
  },
  {
   "cell_type": "code",
   "execution_count": 98,
   "id": "39c352f1-35c3-48c4-8009-752d144fc4d1",
   "metadata": {},
   "outputs": [],
   "source": [
    "from gensim.models import LdaModel\n",
    "from gensim.matutils import Sparse2Corpus\n",
    "\n",
    "lda = LdaModel(Sparse2Corpus(csc_unigram, documents_columns=False), num_topics=10, \n",
    "               id2word={k:v for k, v in enumerate(id2unigramSem)}, random_state=100)"
   ]
  },
  {
   "cell_type": "code",
   "execution_count": 99,
   "id": "88f1549c-4fbc-47eb-8474-943762c2f2b1",
   "metadata": {},
   "outputs": [
    {
     "data": {
      "text/plain": [
       "[(12, 0.42485783),\n",
       " (20, 0.29061306),\n",
       " (2, 0.040224746),\n",
       " (15, 0.039364696),\n",
       " (11, 0.030300116),\n",
       " (3, 0.02780929),\n",
       " (1, 0.02095821),\n",
       " (6, 0.020134788),\n",
       " (14, 0.019468024),\n",
       " (13, 0.019131176)]"
      ]
     },
     "execution_count": 99,
     "metadata": {},
     "output_type": "execute_result"
    }
   ],
   "source": [
    "lda.get_topic_terms(0)"
   ]
  },
  {
   "cell_type": "code",
   "execution_count": 13,
   "id": "5c8f631a-7b91-4671-9552-6ae64d9107b8",
   "metadata": {},
   "outputs": [],
   "source": [
    "# https://scikit-learn.org/stable/modules/generated/sklearn.metrics.adjusted_rand_score.html\n",
    "from sklearn.metrics.cluster import adjusted_rand_score\n",
    "\n",
    "adjusted_rand_score(['A', 'A', 'B', 'B'], [1, 1, 0, 0])"
   ]
  },
  {
   "cell_type": "code",
   "execution_count": null,
   "id": "decb1949-a7c9-45b1-8f33-35d0244a251e",
   "metadata": {},
   "outputs": [],
   "source": []
  }
 ],
 "metadata": {
  "kernelspec": {
   "display_name": "py3.8",
   "language": "python",
   "name": "py3.8"
  },
  "language_info": {
   "codemirror_mode": {
    "name": "ipython",
    "version": 3
   },
   "file_extension": ".py",
   "mimetype": "text/x-python",
   "name": "python",
   "nbconvert_exporter": "python",
   "pygments_lexer": "ipython3",
   "version": "3.8.0"
  }
 },
 "nbformat": 4,
 "nbformat_minor": 5
}
