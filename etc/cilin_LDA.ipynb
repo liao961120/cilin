{
 "cells": [
  {
   "cell_type": "code",
   "execution_count": 1,
   "id": "90b5dd35-181f-4868-aa16-00cbd8b85a51",
   "metadata": {},
   "outputs": [],
   "source": [
    "import json\n",
    "from cilin import Cilin\n",
    "from CompoTree import Radicals\n",
    "\n",
    "C = Cilin(trad=True)\n",
    "radicals = Radicals.load()\n",
    "\n",
    "with open('radical_semantic_tag.json', encoding='utf-8') as f:\n",
    "    rad_sem = json.load(f)"
   ]
  },
  {
   "cell_type": "code",
   "execution_count": 62,
   "id": "8efea8ef-7f0a-4129-bc73-062d0afc527a",
   "metadata": {},
   "outputs": [
    {
     "data": {
      "text/plain": [
       "[['住宿', '性質']]"
      ]
     },
     "execution_count": 62,
     "metadata": {},
     "output_type": "execute_result"
    }
   ],
   "source": [
    "from itertools import product\n",
    "\n",
    "def sem_feats(word):\n",
    "    rads = [ radicals.query(c)[0] for c in word ]\n",
    "    return [ rad_sem.get(r, [\"NULL\"]) for r in rads ]\n",
    "\n",
    "def feat_comb(feats):\n",
    "    if len(feats) > 2: \n",
    "        raise Exception('Accepts 2 features only')\n",
    "    if len(feats) == 1: return feats[0]\n",
    "    f1, f2 = feats\n",
    "    return [f\"{x}_{y}\" for x, y in product(f1, f2)]\n",
    "\n",
    "feat_comb(sem_feats('屍體'))\n",
    "sem_feats(\"屍\")"
   ]
  },
  {
   "cell_type": "code",
   "execution_count": 27,
   "id": "da466490-d704-4985-b9fb-d2ee9c73c058",
   "metadata": {},
   "outputs": [],
   "source": [
    "documents = { k:list(v) for k, v in C.category_split(level=5).items() }\n",
    "# documents"
   ]
  },
  {
   "cell_type": "code",
   "execution_count": 68,
   "id": "33836bbe-9164-467e-bd35-60e24f9c254d",
   "metadata": {},
   "outputs": [],
   "source": [
    "from itertools import chain\n",
    "\n",
    "sem_unigrams = set()\n",
    "sem_bigrams = set()\n",
    "unigram_sem = dict()\n",
    "bigram_sem = dict()\n",
    "for word in chain.from_iterable(documents.values()):\n",
    "    if len(word) == 2:\n",
    "        sem = feat_comb(sem_feats(word))\n",
    "        for fc in sem:\n",
    "            sem_bigrams.add(fc)\n",
    "            bigram_sem.setdefault(word, set()).add(fc)\n",
    "    for ch in word:\n",
    "        sem = sem_feats(ch)[0]\n",
    "        for fc in sem:\n",
    "            sem_unigrams.add(fc)\n",
    "            unigram_sem.setdefault(ch, set()).add(fc)"
   ]
  },
  {
   "cell_type": "code",
   "execution_count": 101,
   "id": "13726cde-7541-4384-b82f-ffb05ee8a531",
   "metadata": {},
   "outputs": [],
   "source": [
    "import numpy as np\n",
    "from collections import Counter\n",
    "from scipy.sparse import csc_matrix\n",
    "\n",
    "id2doc = list(documents.keys())\n",
    "doc2id = {doc:i for i, doc in enumerate(id2doc)}\n",
    "\n",
    "id2unigramSem = list(sem_unigrams)\n",
    "unigramSem2id = {v:i for i, v in enumerate(id2unigramSem)}\n",
    "\n",
    "id2bigramSem = list(sem_bigrams)\n",
    "bigramSem2id = {v:i for i, v in enumerate(id2bigramSem)}\n",
    "\n",
    "# csr_bigram\n",
    "\n",
    "# Unigram document-term matrix\n",
    "data, row, col = [], [], []\n",
    "for row_idx, doc in enumerate(id2doc):\n",
    "    semTags = [ tag for ch in chain.from_iterable(documents[doc]) for tag in unigram_sem[ch] ]\n",
    "    for tag, fq in Counter(semTags).items():\n",
    "        col_idx = unigramSem2id[tag]\n",
    "        data.append(fq)\n",
    "        row.append(row_idx)\n",
    "        col.append(col_idx)\n",
    "csc_unigram = csc_matrix((data, (row, col)), shape=(len(id2doc), len(id2unigramSem)))\n",
    "\n",
    "# Bigram document-term matrix\n",
    "data, row, col = [], [], []\n",
    "for row_idx, doc in enumerate(id2doc):\n",
    "    semTags = [ tag for word in documents[doc] if len(word) == 2 for tag in bigram_sem[word] ]\n",
    "    for tag, fq in Counter(semTags).items():\n",
    "        col_idx = bigramSem2id[tag]\n",
    "        data.append(fq)\n",
    "        row.append(row_idx)\n",
    "        col.append(col_idx)\n",
    "csc_bigram = csc_matrix((data, (row, col)), shape=(len(id2doc), len(id2bigramSem)))"
   ]
  },
  {
   "cell_type": "code",
   "execution_count": 102,
   "id": "39c352f1-35c3-48c4-8009-752d144fc4d1",
   "metadata": {},
   "outputs": [],
   "source": [
    "from gensim.models import LdaModel\n",
    "from gensim.matutils import Sparse2Corpus\n",
    "\n",
    "# lda = LdaModel(Sparse2Corpus(csc_unigram, documents_columns=False), num_topics=12, \n",
    "#                id2word={k:v for k, v in enumerate(id2unigramSem)}, random_state=100)\n",
    "lda = LdaModel(Sparse2Corpus(csc_bigram, documents_columns=False), num_topics=12, \n",
    "               id2word={k:v for k, v in enumerate(id2bigramSem)}, random_state=100)"
   ]
  },
  {
   "cell_type": "code",
   "execution_count": 114,
   "id": "0b14e24d-2cae-4eed-aa45-1726a309071e",
   "metadata": {},
   "outputs": [
    {
     "name": "stdout",
     "output_type": "stream",
     "text": [
      "Counter({'人': 5, '士': 2, '選': 1, '氏': 1, '物': 1})\n"
     ]
    },
    {
     "data": {
      "text/plain": [
       "[(14, 7), (15, 1), (9, 1), (20, 1)]"
      ]
     },
     "execution_count": 114,
     "metadata": {},
     "output_type": "execute_result"
    }
   ],
   "source": [
    "from collections import Counter\n",
    "\n",
    "def encode_doc(doc, unigram=True):\n",
    "    data = []\n",
    "    if unigram:\n",
    "        semTags = [ tag for ch in chain.from_iterable(documents[doc]) for tag in unigram_sem[ch] ]\n",
    "        for tag, fq in Counter(semTags).items():\n",
    "            col_idx = unigramSem2id[tag]\n",
    "            data.append( (col_idx, fq) )\n",
    "    else:\n",
    "        semTags = [ tag for word in documents[doc] if len(word) == 2 for tag in bigram_sem[word] ]\n",
    "        for tag, fq in Counter(semTags).items():\n",
    "            col_idx = bigramSem2id[tag]\n",
    "            data.append( (col_idx, fq) )\n",
    "    return data\n",
    "\n",
    "\n",
    "print(Counter(chain.from_iterable(documents['Aa01A01='])))\n",
    "encode_doc('Aa01A01=', unigram=True)"
   ]
  },
  {
   "cell_type": "code",
   "execution_count": 115,
   "id": "88f1549c-4fbc-47eb-8474-943762c2f2b1",
   "metadata": {},
   "outputs": [
    {
     "data": {
      "text/plain": [
       "[(0, 0.016667048),\n",
       " (1, 0.016667055),\n",
       " (2, 0.016669767),\n",
       " (3, 0.01666705),\n",
       " (4, 0.016667048),\n",
       " (5, 0.6158041),\n",
       " (6, 0.016667046),\n",
       " (7, 0.01666772),\n",
       " (8, 0.21752171),\n",
       " (9, 0.016667338),\n",
       " (10, 0.016667059),\n",
       " (11, 0.016667048)]"
      ]
     },
     "execution_count": 115,
     "metadata": {},
     "output_type": "execute_result"
    }
   ],
   "source": [
    "bow_bigram = encode_doc('Aa01A01=', unigram=False)\n",
    "lda.get_document_topics(bow_bigram)"
   ]
  },
  {
   "cell_type": "code",
   "execution_count": 117,
   "id": "84777845-01b0-49d2-9c49-4c98a1abeceb",
   "metadata": {},
   "outputs": [
    {
     "name": "stdout",
     "output_type": "stream",
     "text": [
      "NULL_人 6.108827516436577\n",
      "人_人 6.006703898310661\n",
      "植物_人 5.035373941063881\n",
      "NULL_野獸 4.135981202125549\n",
      "人體頭部_人體精神 4.066850244998932\n",
      "無生命_人 3.355614095926285\n",
      "NULL_家畜 3.150147572159767\n",
      "穿著器物_人 3.046010620892048\n",
      "人體頭部_生活器物 2.5640178471803665\n",
      "生命性質_生活器物 2.490675263106823\n"
     ]
    }
   ],
   "source": [
    "for idx, prob in lda.get_topic_terms(5):\n",
    "    print(id2bigramSem[idx], prob*100)"
   ]
  },
  {
   "cell_type": "code",
   "execution_count": 13,
   "id": "5c8f631a-7b91-4671-9552-6ae64d9107b8",
   "metadata": {},
   "outputs": [],
   "source": [
    "# https://scikit-learn.org/stable/modules/generated/sklearn.metrics.adjusted_rand_score.html\n",
    "from sklearn.metrics.cluster import adjusted_rand_score\n",
    "\n",
    "adjusted_rand_score(['A', 'A', 'B', 'B'], [1, 1, 0, 0])"
   ]
  },
  {
   "cell_type": "code",
   "execution_count": null,
   "id": "decb1949-a7c9-45b1-8f33-35d0244a251e",
   "metadata": {},
   "outputs": [],
   "source": []
  }
 ],
 "metadata": {
  "kernelspec": {
   "display_name": "py3.8",
   "language": "python",
   "name": "py3.8"
  },
  "language_info": {
   "codemirror_mode": {
    "name": "ipython",
    "version": 3
   },
   "file_extension": ".py",
   "mimetype": "text/x-python",
   "name": "python",
   "nbconvert_exporter": "python",
   "pygments_lexer": "ipython3",
   "version": "3.8.0"
  }
 },
 "nbformat": 4,
 "nbformat_minor": 5
}
