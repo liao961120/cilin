{
 "cells": [
  {
   "cell_type": "code",
   "execution_count": 1,
   "id": "90b5dd35-181f-4868-aa16-00cbd8b85a51",
   "metadata": {},
   "outputs": [],
   "source": [
    "import json\n",
    "import numpy as np\n",
    "from cilin import Cilin\n",
    "from CompoTree import Radicals\n",
    "from collections import Counter\n",
    "from itertools import product, chain\n",
    "from scipy.sparse import csc_matrix\n",
    "from scipy.spatial.distance import pdist, squareform\n",
    "from sklearn.cluster import AgglomerativeClustering\n",
    "from sklearn.metrics.cluster import adjusted_rand_score\n",
    "from gensim.models import LdaModel\n",
    "from gensim.matutils import Sparse2Corpus\n",
    "\n",
    "C = Cilin(trad=True)\n",
    "radicals = Radicals.load()\n",
    "documents = { k:list(v) for k, v in C.category_split(level=4).items() }\n",
    "\n",
    "with open('radical_semantic_tag.json', encoding='utf-8') as f:\n",
    "    rad_sem = json.load(f)"
   ]
  },
  {
   "cell_type": "code",
   "execution_count": 2,
   "id": "8efea8ef-7f0a-4129-bc73-062d0afc527a",
   "metadata": {},
   "outputs": [
    {
     "data": {
      "text/plain": [
       "[['住宿', '性質']]"
      ]
     },
     "execution_count": 2,
     "metadata": {},
     "output_type": "execute_result"
    }
   ],
   "source": [
    "def sem_feats(word):\n",
    "    rads = [ radicals.query(c)[0] for c in word ]\n",
    "    return [ rad_sem.get(r, [\"NULL\"]) for r in rads ]\n",
    "\n",
    "def feat_comb(feats):\n",
    "    if len(feats) > 2: \n",
    "        raise Exception('Accepts 2 features only')\n",
    "    if len(feats) == 1: return feats[0]\n",
    "    f1, f2 = feats\n",
    "    return [f\"{x}_{y}\" for x, y in product(f1, f2)]\n",
    "\n",
    "feat_comb(sem_feats('屍體'))\n",
    "sem_feats(\"屍\")"
   ]
  },
  {
   "cell_type": "code",
   "execution_count": 4,
   "id": "33836bbe-9164-467e-bd35-60e24f9c254d",
   "metadata": {},
   "outputs": [],
   "source": [
    "sem_unigrams = set()\n",
    "sem_bigrams = set()\n",
    "unigram_sem = dict()\n",
    "bigram_sem = dict()\n",
    "for word in chain.from_iterable(documents.values()):\n",
    "    if len(word) == 2:\n",
    "        sem = feat_comb(sem_feats(word))\n",
    "        for fc in sem:\n",
    "            sem_bigrams.add(fc)\n",
    "            bigram_sem.setdefault(word, set()).add(fc)\n",
    "    for ch in word:\n",
    "        sem = sem_feats(ch)[0]\n",
    "        for fc in sem:\n",
    "            sem_unigrams.add(fc)\n",
    "            unigram_sem.setdefault(ch, set()).add(fc)"
   ]
  },
  {
   "cell_type": "code",
   "execution_count": 5,
   "id": "13726cde-7541-4384-b82f-ffb05ee8a531",
   "metadata": {},
   "outputs": [],
   "source": [
    "id2doc = list(documents.keys())\n",
    "doc2id = {doc:i for i, doc in enumerate(id2doc)}\n",
    "\n",
    "id2unigramSem = list(sem_unigrams)\n",
    "unigramSem2id = {v:i for i, v in enumerate(id2unigramSem)}\n",
    "\n",
    "id2bigramSem = list(sem_bigrams)\n",
    "bigramSem2id = {v:i for i, v in enumerate(id2bigramSem)}\n",
    "\n",
    "# Unigram document-term matrix\n",
    "data, row, col = [], [], []\n",
    "for row_idx, doc in enumerate(id2doc):\n",
    "    semTags = [ tag for ch in chain.from_iterable(documents[doc]) for tag in unigram_sem[ch] ]\n",
    "    for tag, fq in Counter(semTags).items():\n",
    "        col_idx = unigramSem2id[tag]\n",
    "        data.append(fq)\n",
    "        row.append(row_idx)\n",
    "        col.append(col_idx)\n",
    "csc_unigram = csc_matrix((data, (row, col)), shape=(len(id2doc), len(id2unigramSem)))\n",
    "\n",
    "# Bigram document-term matrix\n",
    "data, row, col = [], [], []\n",
    "for row_idx, doc in enumerate(id2doc):\n",
    "    semTags = [ tag for word in documents[doc] if len(word) == 2 for tag in bigram_sem[word] ]\n",
    "    for tag, fq in Counter(semTags).items():\n",
    "        col_idx = bigramSem2id[tag]\n",
    "        data.append(fq)\n",
    "        row.append(row_idx)\n",
    "        col.append(col_idx)\n",
    "csc_bigram = csc_matrix((data, (row, col)), shape=(len(id2doc), len(id2bigramSem)))"
   ]
  },
  {
   "cell_type": "code",
   "execution_count": 6,
   "id": "39c352f1-35c3-48c4-8009-752d144fc4d1",
   "metadata": {},
   "outputs": [],
   "source": [
    "# lda = LdaModel(Sparse2Corpus(csc_unigram, documents_columns=False), num_topics=12, \n",
    "#                id2word={k:v for k, v in enumerate(id2unigramSem)}, random_state=100)\n",
    "lda = LdaModel(Sparse2Corpus(csc_bigram, documents_columns=False), num_topics=12, \n",
    "               id2word={k:v for k, v in enumerate(id2bigramSem)}, random_state=100)"
   ]
  },
  {
   "cell_type": "code",
   "execution_count": 7,
   "id": "0b14e24d-2cae-4eed-aa45-1726a309071e",
   "metadata": {},
   "outputs": [
    {
     "name": "stdout",
     "output_type": "stream",
     "text": [
      "Counter({'人': 17, '子': 8, '崽': 4, '員': 2, '口': 2, '夫': 2, '蛋': 2, '貨': 2, '手': 2, '者': 2, '勞': 2, '力': 2, '小': 2, '類': 2, '每': 2, '士': 2, '生': 2, '家': 1, '丁': 1, '主': 1, '各': 1, '鼠': 1, '輩': 1, '雜': 1, '種': 1, '分': 1, '匹': 1, '混': 1, '豎': 1, '匠': 1, '翁': 1, '工': 1, '作': 1, '客': 1, '動': 1, '廝': 1, '氏': 1, '王': 1, '八': 1, '位': 1, '漢': 1, '徒': 1, '色': 1, '個': 1, '狗': 1, '全': 1, '東': 1, '西': 1, '畜': 1, '此': 1, '食': 1, '指': 1, '選': 1, '鬼': 1, '該': 1, '傢': 1, '伙': 1, '兔': 1, '物': 1, '棍': 1})\n"
     ]
    },
    {
     "data": {
      "text/plain": [
       "[(7, 3),\n",
       " (3, 26),\n",
       " (4, 8),\n",
       " (18, 7),\n",
       " (14, 12),\n",
       " (13, 5),\n",
       " (21, 3),\n",
       " (10, 6),\n",
       " (6, 1),\n",
       " (16, 11),\n",
       " (5, 7),\n",
       " (8, 1),\n",
       " (11, 11),\n",
       " (19, 1),\n",
       " (12, 2),\n",
       " (17, 4),\n",
       " (9, 1)]"
      ]
     },
     "execution_count": 7,
     "metadata": {},
     "output_type": "execute_result"
    }
   ],
   "source": [
    "def encode_doc(doc, unigram):\n",
    "    data = []\n",
    "    if unigram:\n",
    "        semTags = [ tag for ch in chain.from_iterable(documents[doc]) for tag in unigram_sem[ch] ]\n",
    "        for tag, fq in Counter(semTags).items():\n",
    "            col_idx = unigramSem2id[tag]\n",
    "            data.append( (col_idx, fq) )\n",
    "    else:\n",
    "        semTags = [ tag for word in documents[doc] if len(word) == 2 for tag in bigram_sem[word] ]\n",
    "        for tag, fq in Counter(semTags).items():\n",
    "            col_idx = bigramSem2id[tag]\n",
    "            data.append( (col_idx, fq) )\n",
    "    return data\n",
    "\n",
    "def get_document_topic_vec(doc, lda_model, unigram):\n",
    "    bow = encode_doc(doc, unigram=unigram)\n",
    "    tp_distr = dict(lda_model.get_document_topics(bow, minimum_probability=1e-16))\n",
    "    return [ tp_distr.get(i, 0.0) for i in range(lda_model.num_topics)] \n",
    "\n",
    "\n",
    "print(Counter(chain.from_iterable(documents['Aa01A'])))\n",
    "encode_doc('Aa01A', unigram=True)"
   ]
  },
  {
   "cell_type": "code",
   "execution_count": 20,
   "id": "ae886ea9-b1de-43d3-86fe-29de7010e37b",
   "metadata": {},
   "outputs": [
    {
     "data": {
      "text/plain": [
       "(4223, 4223)"
      ]
     },
     "execution_count": 20,
     "metadata": {},
     "output_type": "execute_result"
    }
   ],
   "source": [
    "X = []\n",
    "for row_idx, doc1_id in enumerate(id2doc):\n",
    "    p = get_document_topic_vec(doc1_id, lda, unigram=False)\n",
    "    X.append(p)\n",
    "X = np.array(X, dtype=float)\n",
    "dist_mat = pdist(X, \"jensenshannon\")\n",
    "dist_mat = squareform(dist_mat)\n",
    "dist_mat.shape\n",
    "\n",
    "for row_idx, col_idx in np.argwhere(np.isnan(dist_mat)):\n",
    "    dist_mat[row_idx][col_idx] = 0.0\n",
    "dist_mat.shape"
   ]
  },
  {
   "cell_type": "code",
   "execution_count": 22,
   "id": "44561e5a-333c-4e05-b393-53f862da4e44",
   "metadata": {},
   "outputs": [],
   "source": [
    "from sklearn.cluster import AgglomerativeClustering\n",
    "\n",
    "clustering = AgglomerativeClustering(n_clusters=12, affinity='precomputed', linkage='complete').fit(dist_mat)"
   ]
  },
  {
   "cell_type": "code",
   "execution_count": 28,
   "id": "84777845-01b0-49d2-9c49-4c98a1abeceb",
   "metadata": {},
   "outputs": [
    {
     "data": {
      "text/plain": [
       "0.028566409365600492"
      ]
     },
     "execution_count": 28,
     "metadata": {},
     "output_type": "execute_result"
    }
   ],
   "source": [
    "# https://scikit-learn.org/stable/modules/generated/sklearn.metrics.adjusted_rand_score.html\n",
    "from sklearn.metrics.cluster import adjusted_rand_score\n",
    "\n",
    "true_labs = [ x[0] for x in id2doc ]\n",
    "cluster_labs = clustering.labels_\n",
    "\n",
    "adjusted_rand_score(true_labs, cluster_labs)"
   ]
  }
 ],
 "metadata": {
  "kernelspec": {
   "display_name": "py3.8",
   "language": "python",
   "name": "py3.8"
  },
  "language_info": {
   "codemirror_mode": {
    "name": "ipython",
    "version": 3
   },
   "file_extension": ".py",
   "mimetype": "text/x-python",
   "name": "python",
   "nbconvert_exporter": "python",
   "pygments_lexer": "ipython3",
   "version": "3.8.0"
  }
 },
 "nbformat": 4,
 "nbformat_minor": 5
}
